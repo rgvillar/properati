{
 "cells": [
  {
   "cell_type": "code",
   "execution_count": 1,
   "metadata": {},
   "outputs": [],
   "source": [
    "import numpy as np\n",
    "import pandas as pd\n",
    "from IPython.display import display"
   ]
  },
  {
   "cell_type": "code",
   "execution_count": 2,
   "metadata": {},
   "outputs": [],
   "source": [
    "dfprop=pd.read_csv(filepath_or_buffer='properati_buffered.csv',delimiter=',',index_col = 0 )"
   ]
  },
  {
   "cell_type": "code",
   "execution_count": 45,
   "metadata": {},
   "outputs": [
    {
     "data": {
      "text/plain": [
       "Index(['operation', 'property_type', 'place_name', 'place_with_parent_names',\n",
       "       'country_name', 'state_name', 'geonames_id', 'lat-lon', 'lat', 'lon',\n",
       "       'price', 'currency', 'price_aprox_local_currency', 'price_aprox_usd',\n",
       "       'surface_total_in_m2', 'surface_covered_in_m2', 'price_usd_per_m2',\n",
       "       'price_per_m2', 'floor', 'rooms', 'expenses', 'properati_url',\n",
       "       'description', 'title', 'image_thumbnail', 'district_name', 'city_name',\n",
       "       'cota_inf', 'cota_sup', 'district_name_key', 'dm_CONDOMINIO',\n",
       "       'dm_CONSTRUCCION', 'dm_QUINCHO', 'dm_BARRIO CERRADO', 'dm_BAULERA',\n",
       "       'dm_VIGILANCIA', 'dm_OBRA', 'dm_PARRILLA', 'dm_CERRADO',\n",
       "       'dm_MONOAMBIENTE', 'dm_ESCUELA', 'dm_EXPENSA', 'dm_POZO', 'dm_AMPLIO',\n",
       "       'dm_LUMINOSO', 'dm_PILETA', 'ambientes_desc', 'ambientes_title',\n",
       "       'baños'],\n",
       "      dtype='object')"
      ]
     },
     "execution_count": 45,
     "metadata": {},
     "output_type": "execute_result"
    }
   ],
   "source": [
    "dfprop.columns"
   ]
  },
  {
   "cell_type": "code",
   "execution_count": 4,
   "metadata": {},
   "outputs": [],
   "source": [
    "# Generamos una key de zona\n",
    "dfprop['district_name_key']=dfprop['country_name']+\"-\"+\\\n",
    "                            dfprop['state_name']+\"-\"+\\\n",
    "                            dfprop['district_name']\n"
   ]
  },
  {
   "cell_type": "markdown",
   "metadata": {},
   "source": [
    "## Construccion de Dummies\n",
    "-  Efectuar una inspeccion de los campos title y description para indicar la existencia de palabras claves "
   ]
  },
  {
   "cell_type": "code",
   "execution_count": 5,
   "metadata": {},
   "outputs": [],
   "source": [
    "def new_dummy_from_included_in_column(dfprop_aux,column,word):\n",
    "    #dfprop_aux=dfprop\n",
    "    #word='POZO'\n",
    "    \n",
    "    #Creamos la expresion regular ...\"que el texto empiece con\"... word \n",
    "    re_word=\"(\"+word+\")\"\n",
    "    \n",
    "    #Creamos la expresion regular\n",
    "    re_search=dfprop[column].str.extract(re_word,expand=False)\n",
    "    \n",
    "    #re_search[((re_search!=-1)&(~(pd.isna(re_search))))].index\n",
    "    #Creamos la columna dummy y seteamos todos los rows en 0\n",
    "    dfprop_aux.loc[:,\"dm_\"+word]=0\n",
    "    \n",
    "    #Extraemos la lista de de indices donde la expresion se cumple\n",
    "    prop_re_list =np.array(re_search[((re_search!=-1)&(~(pd.isna(re_search))))].index)\n",
    "    \n",
    "    #Actualizamos el valor de la columna Dummy a 1 en los casos dentro del indice enviado\n",
    "    dfprop_aux.loc[dfprop_aux.index.isin(prop_re_list),\"dm_\"+word]=1\n",
    "    \n",
    "    return dfprop_aux\n",
    "\n",
    "def new_dummy_from_included(dfprop_aux_,word_):\n",
    "    dfprop_aux_=new_dummy_from_included_in_column(dfprop_aux_,'description',word_)\n",
    "    dfprop_aux_=new_dummy_from_included_in_column(dfprop_aux_,'title',word_)\n",
    "    print_dummy_count_rows(dfprop_aux_,'dm_'+word_)\n",
    "    return dfprop_aux_\n",
    "\n",
    "def print_dummy_count_rows(dfprop_aux_p,word_p):\n",
    "    print('Cantidad de rows con '+word_p+\": \",dfprop_aux_p.loc[dfprop_aux_p[word_p]==1,'operation'].count())\n",
    "    "
   ]
  },
  {
   "cell_type": "code",
   "execution_count": 6,
   "metadata": {},
   "outputs": [
    {
     "name": "stdout",
     "output_type": "stream",
     "text": [
      "Cantidad de rows con dm_CONDOMINIO:  89\n",
      "Cantidad de rows con dm_CONSTRUCCION:  278\n",
      "Cantidad de rows con dm_QUINCHO:  174\n",
      "Cantidad de rows con dm_BARRIO CERRADO:  133\n",
      "Cantidad de rows con dm_BAULERA:  165\n",
      "Cantidad de rows con dm_VIGILANCIA:  11\n",
      "Cantidad de rows con dm_OBRA:  45\n",
      "Cantidad de rows con dm_PARRILLA:  161\n",
      "Cantidad de rows con dm_CERRADO:  160\n",
      "Cantidad de rows con dm_MONOAMBIENTE:  900\n",
      "Cantidad de rows con dm_ESCUELA:  1\n",
      "Cantidad de rows con dm_EXPENSA:  156\n",
      "Cantidad de rows con dm_POZO:  768\n",
      "Cantidad de rows con dm_AMPLIO:  373\n",
      "Cantidad de rows con dm_LUMINOSO:  544\n",
      "Cantidad de rows con dm_PILETA:  268\n"
     ]
    }
   ],
   "source": [
    "dfprop=new_dummy_from_included(dfprop,'CONDOMINIO')\n",
    "dfprop=new_dummy_from_included(dfprop,'CONSTRUCCION')\n",
    "dfprop=new_dummy_from_included(dfprop,'QUINCHO')\n",
    "dfprop=new_dummy_from_included(dfprop,'BARRIO CERRADO')\n",
    "dfprop=new_dummy_from_included(dfprop,'BAULERA')\n",
    "dfprop=new_dummy_from_included(dfprop,'VIGILANCIA')\n",
    "dfprop=new_dummy_from_included(dfprop,'OBRA')\n",
    "dfprop=new_dummy_from_included(dfprop,'PARRILLA')\n",
    "dfprop=new_dummy_from_included(dfprop,'CERRADO')\n",
    "dfprop=new_dummy_from_included(dfprop,'MONOAMBIENTE')\n",
    "dfprop=new_dummy_from_included(dfprop,'ESCUELA')\n",
    "dfprop=new_dummy_from_included(dfprop,'EXPENSA')\n",
    "dfprop=new_dummy_from_included(dfprop,'POZO')\n",
    "dfprop=new_dummy_from_included(dfprop,'AMPLIO')\n",
    "dfprop=new_dummy_from_included(dfprop,'LUMINOSO')\n",
    "dfprop=new_dummy_from_included(dfprop,'PILETA')"
   ]
  },
  {
   "cell_type": "code",
   "execution_count": 7,
   "metadata": {},
   "outputs": [],
   "source": [
    "\"\"\"Definimos una funcion que busque un número en una columna de un df, en base a un termino, por ejemplo: \n",
    "de '2 ambientes', con el termino 'ambientes' extraer el número '2'\"\"\"\n",
    "def word_lookup(df, target_column, word):\n",
    "    #importamos el modulo re que nos permite usar expresiones regulares facilmente\n",
    "    import re\n",
    "    #creamos una lista auxiliar\n",
    "    word_list_aux = []\n",
    "    #definimos el loop que analizara la columna del df\n",
    "    for i in range(len(df.index)):\n",
    "        if re.search(r\"\\d\\s\"+str(word), str(df[target_column].iloc[i]), flags = re.IGNORECASE):\n",
    "            word_list_aux.append(float(re.search(r\"\\d\",re.search(r\"\\d\\s\"+str(word), df[target_column].iloc[i], flags = re.IGNORECASE).group()).group()))\n",
    "        else:\n",
    "            word_list_aux.append(np.nan)\n",
    "    return word_list_aux"
   ]
  },
  {
   "cell_type": "code",
   "execution_count": 8,
   "metadata": {},
   "outputs": [],
   "source": [
    "ambientes_desc_list = word_lookup(dfprop, 'description', 'amb')"
   ]
  },
  {
   "cell_type": "code",
   "execution_count": 9,
   "metadata": {},
   "outputs": [],
   "source": [
    "dfprop['ambientes_desc'] = ambientes_desc_list"
   ]
  },
  {
   "cell_type": "code",
   "execution_count": 10,
   "metadata": {},
   "outputs": [],
   "source": [
    "ambientes_title_list = word_lookup(dfprop, 'title', 'amb')\n",
    "dfprop['ambientes_title'] = ambientes_title_list\n",
    "baño_desc_list = word_lookup(dfprop, 'description', 'baño')\n",
    "bano_desc_list = word_lookup(dfprop, 'description', 'bano')\n",
    "df_aux_baño = pd.DataFrame(baño_desc_list)\n",
    "df_aux_bano = pd.DataFrame(bano_desc_list)\n",
    "df_aux_baño = df_aux_baño.combine_first(df_aux_bano)\n",
    "df_aux_baño.fillna(value = 1, inplace= True)"
   ]
  },
  {
   "cell_type": "code",
   "execution_count": 11,
   "metadata": {},
   "outputs": [],
   "source": [
    "df_aux_baño.rename(mapper = {0:'baños'}, axis = 1, inplace= True)\n",
    "dfprop['baños'] = df_aux_baño['baños']"
   ]
  },
  {
   "cell_type": "code",
   "execution_count": 12,
   "metadata": {},
   "outputs": [],
   "source": [
    "dfprop_aux_amb = dfprop['ambientes_desc']\n",
    "dfprop_aux_rooms = dfprop['rooms']\n",
    "dfprop_aux_amb = dfprop_aux_amb.combine_first(dfprop_aux_rooms)\n",
    "dfprop['ambientes_desc'] = dfprop_aux_amb\n",
    "dfprop['ambientes_desc'] = dfprop[['ambientes_desc']].combine_first(dfprop[['ambientes_title']])"
   ]
  },
  {
   "cell_type": "code",
   "execution_count": 13,
   "metadata": {},
   "outputs": [
    {
     "data": {
      "text/plain": [
       "39450"
      ]
     },
     "execution_count": 13,
     "metadata": {},
     "output_type": "execute_result"
    }
   ],
   "source": [
    "#Calculo cuantos registros no tienen dato alguno de cantidad de ambientes\n",
    "dfprop[(dfprop.rooms.isna()==True)&(dfprop.ambientes_desc.isna()==True)&(dfprop.ambientes_title.isna()==True)]['operation'].count()"
   ]
  },
  {
   "cell_type": "code",
   "execution_count": 14,
   "metadata": {},
   "outputs": [
    {
     "data": {
      "text/plain": [
       "41829"
      ]
     },
     "execution_count": 14,
     "metadata": {},
     "output_type": "execute_result"
    }
   ],
   "source": [
    "#nan en ambientes_desc\n",
    "len(dfprop)-dfprop['ambientes_desc'].count()"
   ]
  },
  {
   "cell_type": "code",
   "execution_count": 15,
   "metadata": {},
   "outputs": [
    {
     "data": {
      "text/plain": [
       "79770"
      ]
     },
     "execution_count": 15,
     "metadata": {},
     "output_type": "execute_result"
    }
   ],
   "source": [
    "#nan en ambientes_title\n",
    "len(dfprop)-dfprop['ambientes_title'].count()"
   ]
  },
  {
   "cell_type": "code",
   "execution_count": 16,
   "metadata": {},
   "outputs": [
    {
     "data": {
      "text/plain": [
       "900"
      ]
     },
     "execution_count": 16,
     "metadata": {},
     "output_type": "execute_result"
    }
   ],
   "source": [
    "#cantidad de operaciones de monoambientes\n",
    "dfprop['dm_MONOAMBIENTE'].sum()"
   ]
  },
  {
   "cell_type": "code",
   "execution_count": 17,
   "metadata": {},
   "outputs": [
    {
     "data": {
      "text/html": [
       "<div>\n",
       "<style scoped>\n",
       "    .dataframe tbody tr th:only-of-type {\n",
       "        vertical-align: middle;\n",
       "    }\n",
       "\n",
       "    .dataframe tbody tr th {\n",
       "        vertical-align: top;\n",
       "    }\n",
       "\n",
       "    .dataframe thead th {\n",
       "        text-align: right;\n",
       "    }\n",
       "</style>\n",
       "<table border=\"1\" class=\"dataframe\">\n",
       "  <thead>\n",
       "    <tr style=\"text-align: right;\">\n",
       "      <th></th>\n",
       "      <th>rooms</th>\n",
       "      <th>dm_MONOAMBIENTE</th>\n",
       "      <th>ambientes_desc</th>\n",
       "      <th>ambientes_title</th>\n",
       "    </tr>\n",
       "  </thead>\n",
       "  <tbody>\n",
       "    <tr>\n",
       "      <th>6</th>\n",
       "      <td>NaN</td>\n",
       "      <td>1</td>\n",
       "      <td>1.0</td>\n",
       "      <td>NaN</td>\n",
       "    </tr>\n",
       "    <tr>\n",
       "      <th>215</th>\n",
       "      <td>1.0</td>\n",
       "      <td>1</td>\n",
       "      <td>1.0</td>\n",
       "      <td>NaN</td>\n",
       "    </tr>\n",
       "    <tr>\n",
       "      <th>443</th>\n",
       "      <td>NaN</td>\n",
       "      <td>1</td>\n",
       "      <td>1.0</td>\n",
       "      <td>NaN</td>\n",
       "    </tr>\n",
       "    <tr>\n",
       "      <th>711</th>\n",
       "      <td>1.0</td>\n",
       "      <td>1</td>\n",
       "      <td>1.0</td>\n",
       "      <td>NaN</td>\n",
       "    </tr>\n",
       "    <tr>\n",
       "      <th>712</th>\n",
       "      <td>2.0</td>\n",
       "      <td>1</td>\n",
       "      <td>1.0</td>\n",
       "      <td>NaN</td>\n",
       "    </tr>\n",
       "  </tbody>\n",
       "</table>\n",
       "</div>"
      ],
      "text/plain": [
       "     rooms  dm_MONOAMBIENTE  ambientes_desc  ambientes_title\n",
       "6      NaN                1             1.0              NaN\n",
       "215    1.0                1             1.0              NaN\n",
       "443    NaN                1             1.0              NaN\n",
       "711    1.0                1             1.0              NaN\n",
       "712    2.0                1             1.0              NaN"
      ]
     },
     "execution_count": 17,
     "metadata": {},
     "output_type": "execute_result"
    }
   ],
   "source": [
    "#Imputacion de los monoambientes dentro de la columna ambientes_desc\n",
    "dfprop.loc[dfprop['dm_MONOAMBIENTE']==1, 'ambientes_desc']=1\n",
    "dfprop.loc[dfprop['dm_MONOAMBIENTE']==1][['rooms','dm_MONOAMBIENTE','ambientes_desc','ambientes_title']].head()"
   ]
  },
  {
   "cell_type": "code",
   "execution_count": 18,
   "metadata": {},
   "outputs": [
    {
     "data": {
      "text/plain": [
       "operation                     668\n",
       "property_type                 668\n",
       "place_name                    668\n",
       "place_with_parent_names       668\n",
       "country_name                  668\n",
       "state_name                    668\n",
       "geonames_id                   662\n",
       "lat-lon                       128\n",
       "lat                           128\n",
       "lon                           128\n",
       "price                         668\n",
       "currency                      668\n",
       "price_aprox_local_currency    618\n",
       "price_aprox_usd               668\n",
       "surface_total_in_m2           666\n",
       "surface_covered_in_m2         666\n",
       "price_usd_per_m2              668\n",
       "price_per_m2                  607\n",
       "floor                           0\n",
       "rooms                         649\n",
       "expenses                        3\n",
       "properati_url                 668\n",
       "description                   668\n",
       "title                         668\n",
       "image_thumbnail               668\n",
       "district_name                 668\n",
       "city_name                       7\n",
       "cota_inf                      668\n",
       "cota_sup                      668\n",
       "district_name_key             668\n",
       "dm_CONDOMINIO                 668\n",
       "dm_CONSTRUCCION               668\n",
       "dm_QUINCHO                    668\n",
       "dm_BARRIO CERRADO             668\n",
       "dm_BAULERA                    668\n",
       "dm_VIGILANCIA                 668\n",
       "dm_OBRA                       668\n",
       "dm_PARRILLA                   668\n",
       "dm_CERRADO                    668\n",
       "dm_MONOAMBIENTE               668\n",
       "dm_ESCUELA                    668\n",
       "dm_EXPENSA                    668\n",
       "dm_POZO                       668\n",
       "dm_AMPLIO                     668\n",
       "dm_LUMINOSO                   668\n",
       "dm_PILETA                     668\n",
       "ambientes_desc                654\n",
       "ambientes_title               143\n",
       "baños                         668\n",
       "dtype: int64"
      ]
     },
     "execution_count": 18,
     "metadata": {},
     "output_type": "execute_result"
    }
   ],
   "source": [
    "dfprop.loc[dfprop['price_usd_per_m2']>8000].count()"
   ]
  },
  {
   "cell_type": "code",
   "execution_count": 40,
   "metadata": {},
   "outputs": [
    {
     "data": {
      "text/plain": [
       "count    49010.000000\n",
       "mean      2167.139168\n",
       "std        826.350607\n",
       "min       1000.158833\n",
       "25%       1590.749931\n",
       "50%       2013.888889\n",
       "75%       2567.541060\n",
       "max       7978.723404\n",
       "Name: price_usd_per_m2, dtype: float64"
      ]
     },
     "execution_count": 40,
     "metadata": {},
     "output_type": "execute_result"
    }
   ],
   "source": [
    "#Creacion de df auxiliar para graficos. Se quita amb_desc = Nan & valor metro cuadrado mayor a 8000\n",
    "#!!!Reconfirmar que ambientes_desc sea la columna definitiva, revisar cantidad de casos nan\n",
    "dfprop_aux=dfprop.loc[dfprop['ambientes_desc'].isna()==False]\n",
    "dfprop_aux=dfprop_aux.loc[dfprop['price_usd_per_m2']<8000]\n",
    "dfprop_aux=dfprop_aux.loc[dfprop['price_usd_per_m2']>1000]\n",
    "dfprop_aux=dfprop_aux.loc[dfprop['ambientes_desc']!=0]\n",
    "dfprop_aux=dfprop_aux.loc[dfprop['ambientes_desc']<7]\n",
    "dfprop_aux['price_usd_per_m2'].describe()"
   ]
  },
  {
   "cell_type": "code",
   "execution_count": 59,
   "metadata": {},
   "outputs": [
    {
     "data": {
      "text/plain": [
       "Index(['Abasto', 'Agronomía', 'Almagro', 'Almirante Brown', 'Avellaneda',\n",
       "       'Bahía Blanca', 'Balcarce', 'Balvanera', 'Barracas', 'Barrio Norte',\n",
       "       ...\n",
       "       'Villa Gesell', 'Villa La Angostura', 'Villa Lugano', 'Villa Luro',\n",
       "       'Villa Ortuzar', 'Villa Pueyrredón', 'Villa Real', 'Villa Santa Rita',\n",
       "       'Villa Urquiza', 'Villa del Parque'],\n",
       "      dtype='object', length=141)"
      ]
     },
     "execution_count": 59,
     "metadata": {},
     "output_type": "execute_result"
    }
   ],
   "source": [
    "district_dummies = pd.get_dummies(dfprop_aux.district_name)\n",
    "dfprop_aux = pd.concat([dfprop_aux, district_dummies], axis=1)\n",
    "district_dummies.columns"
   ]
  },
  {
   "cell_type": "code",
   "execution_count": 42,
   "metadata": {},
   "outputs": [],
   "source": [
    "%matplotlib inline\n",
    "\n",
    "from matplotlib import pyplot as plt\n",
    "plt.rcParams['figure.figsize'] = 10, 10\n",
    "\n",
    "import numpy as np\n",
    "import pandas as pd\n",
    "from scipy import stats\n",
    "import seaborn as sns\n",
    "from sklearn import datasets,preprocessing\n",
    "from sklearn.model_selection import train_test_split, KFold, cross_val_score\n",
    "from sklearn.linear_model import LinearRegression, Lasso, LassoCV, Ridge, RidgeCV\n",
    "from sklearn.preprocessing import PolynomialFeatures, StandardScaler\n",
    "from sklearn.metrics import mean_squared_error, r2_score"
   ]
  },
  {
   "cell_type": "code",
   "execution_count": 62,
   "metadata": {},
   "outputs": [
    {
     "name": "stdout",
     "output_type": "stream",
     "text": [
      "(34307, 282) (34307,)\n",
      "(14703, 282) (14703,)\n"
     ]
    }
   ],
   "source": [
    "X=dfprop_aux[district_dummies.columns]\n",
    "y=dfprop_aux['price_usd_per_m2']\n",
    "\n",
    "X_train, X_test, y_train, y_test = train_test_split(X, y, test_size=0.30, random_state=53)\n",
    "print(X_train.shape, y_train.shape)\n",
    "print(X_test.shape, y_test.shape)\n"
   ]
  },
  {
   "cell_type": "code",
   "execution_count": 65,
   "metadata": {},
   "outputs": [],
   "source": [
    "# Generamos un grid de $\\alpha$ para probar e instanciamos un particionador del Training Set \n",
    "# en K partes para realizar la validación cruzada\n",
    "from sklearn.gaussian_process import GaussianProcessRegressor\n",
    "al_ridge = np.linspace(0.001, 0.3, 300)\n",
    "al_lasso = np.linspace(0.1, 0.5, 300)\n",
    "kf = KFold(n_splits=5, shuffle=True, random_state=12)\n",
    "\n",
    "# Instanciamos los modelos\n",
    "\n",
    "#lm = GaussianProcessRegressor()\n",
    "lm_ridge_cv= RidgeCV(alphas=al_ridge, cv=kf, normalize=False)\n",
    "#lm_lasso_cv = LassoCV(alphas=al_lasso, cv=kf, normalize=False)"
   ]
  },
  {
   "cell_type": "code",
   "execution_count": 66,
   "metadata": {},
   "outputs": [
    {
     "data": {
      "text/plain": [
       "RidgeCV(alphas=array([0.001, 0.002, ..., 0.299, 0.3  ]),\n",
       "    cv=KFold(n_splits=5, random_state=12, shuffle=True),\n",
       "    fit_intercept=True, gcv_mode=None, normalize=False, scoring=None,\n",
       "    store_cv_values=False)"
      ]
     },
     "execution_count": 66,
     "metadata": {},
     "output_type": "execute_result"
    }
   ],
   "source": [
    "# Hacemos los fits respectivos\n",
    "#lm.fit(X_train, y_train)\n",
    "lm_ridge_cv.fit(X_train, y_train)\n",
    "#lm_lasso_cv.fit(X_train, y_train)"
   ]
  },
  {
   "cell_type": "code",
   "execution_count": 67,
   "metadata": {},
   "outputs": [
    {
     "data": {
      "text/plain": [
       "0.5459811021226746"
      ]
     },
     "execution_count": 67,
     "metadata": {},
     "output_type": "execute_result"
    }
   ],
   "source": [
    "lm_ridge_cv.score(X_train, y_train)"
   ]
  },
  {
   "cell_type": "code",
   "execution_count": 41,
   "metadata": {},
   "outputs": [
    {
     "name": "stderr",
     "output_type": "stream",
     "text": [
      "/opt/conda/lib/python3.6/site-packages/scipy/stats/stats.py:1713: FutureWarning: Using a non-tuple sequence for multidimensional indexing is deprecated; use `arr[tuple(seq)]` instead of `arr[seq]`. In the future this will be interpreted as an array index, `arr[np.array(seq)]`, which will result either in an error or a different result.\n",
      "  return np.add.reduce(sorted[indexer] * weights, axis=axis) / sumval\n"
     ]
    },
    {
     "data": {
      "image/png": "[encoded data removed]",
      "text/plain": [
       "<Figure size 360x360 with 1 Axes>"
      ]
     },
     "metadata": {},
     "output_type": "display_data"
    }
   ],
   "source": [
    "import matplotlib as mpl\n",
    "import matplotlib.pyplot as plt\n",
    "import seaborn as sns\n",
    "\n",
    "df_select=dfprop_aux[['price_usd_per_m2', 'ambientes_desc']]\n",
    "\n",
    "\n",
    "# Plot\n",
    "sns.set_style(\"white\")\n",
    "gridobj = sns.lmplot(x=\"ambientes_desc\", y=\"price_usd_per_m2\", data=df_select)\n"
   ]
  },
  {
   "cell_type": "code",
   "execution_count": null,
   "metadata": {},
   "outputs": [],
   "source": []
  }
 ],
 "metadata": {
  "kernelspec": {
   "display_name": "Python 3",
   "language": "python",
   "name": "python3"
  },
  "language_info": {
   "codemirror_mode": {
    "name": "ipython",
    "version": 3
   },
   "file_extension": ".py",
   "mimetype": "text/x-python",
   "name": "python",
   "nbconvert_exporter": "python",
   "pygments_lexer": "ipython3",
   "version": "3.6.6"
  }
 },
 "nbformat": 4,
 "nbformat_minor": 2
}
