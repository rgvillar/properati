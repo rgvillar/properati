{
 "cells": [
  {
   "cell_type": "markdown",
   "metadata": {},
   "source": [
    "# Desafio 1: Properti"
   ]
  },
  {
   "cell_type": "markdown",
   "metadata": {},
   "source": [
    "## Objetivos:\n",
    "-  Efectuar una limpieza del dataset provisto. Particularmente, deberá diseñar estrategias para lidiar con los datos perdidos en ciertas variables.\n",
    "\n",
    "-  Realizar un análisis descriptivo de las principales variables.\n",
    "\n",
    "- Crear nuevas columnas a partir de las características dadas que puedan tener valor predictivo."
   ]
  },
  {
   "cell_type": "markdown",
   "metadata": {},
   "source": [
    "## Preparacion de ambiente\n",
    "### Importar Librerias\n",
    "**Numpy** y **Pandas** son importadas para administrar todas las operaciones analiticas \n",
    "\n",
    "**IPython** es utilizados para administrar la visualizacion de los datos"
   ]
  },
  {
   "cell_type": "code",
   "execution_count": 87,
   "metadata": {},
   "outputs": [],
   "source": [
    "import numpy as np\n",
    "import pandas as pd\n",
    "from IPython.display import display"
   ]
  },
  {
   "cell_type": "markdown",
   "metadata": {},
   "source": [
    "### Importar archivo CSV\n",
    "Utilizando Pandas importamos el archivo CSV considerando la comma como delimitador "
   ]
  },
  {
   "cell_type": "code",
   "execution_count": 88,
   "metadata": {},
   "outputs": [],
   "source": [
    "dfprop=pd.read_csv(filepath_or_buffer='properatti.csv',delimiter=',',index_col = 0 )"
   ]
  },
  {
   "cell_type": "markdown",
   "metadata": {},
   "source": [
    "## Visualizacion\n",
    "### Visualizar la forma del Dataframe\n",
    "Se utilizara la funcion nativa **shape** de la clase DataFrame para visualizar:\n",
    "- Cantidad de observaciones \n",
    "- Cantidad de variables"
   ]
  },
  {
   "cell_type": "code",
   "execution_count": 89,
   "metadata": {},
   "outputs": [
    {
     "data": {
      "text/plain": [
       "(121220, 25)"
      ]
     },
     "execution_count": 89,
     "metadata": {},
     "output_type": "execute_result"
    }
   ],
   "source": [
    "dfprop.shape"
   ]
  },
  {
   "cell_type": "markdown",
   "metadata": {},
   "source": [
    "### Visualizar estructura del Dataframe\n",
    "Se utilizara la funcion nativa **info()** de la clase DataFrame para visualizar:\n",
    "- Cantidad de variables\n",
    "- Nombre de variables\n",
    "- Cantidad de registros con valores **No nulos**\n",
    "- Tipo de dato"
   ]
  },
  {
   "cell_type": "code",
   "execution_count": 90,
   "metadata": {},
   "outputs": [
    {
     "name": "stdout",
     "output_type": "stream",
     "text": [
      "<class 'pandas.core.frame.DataFrame'>\n",
      "Int64Index: 121220 entries, 0 to 121219\n",
      "Data columns (total 25 columns):\n",
      "operation                     121220 non-null object\n",
      "property_type                 121220 non-null object\n",
      "place_name                    121197 non-null object\n",
      "place_with_parent_names       121220 non-null object\n",
      "country_name                  121220 non-null object\n",
      "state_name                    121220 non-null object\n",
      "geonames_id                   102503 non-null float64\n",
      "lat-lon                       69670 non-null object\n",
      "lat                           69670 non-null float64\n",
      "lon                           69670 non-null float64\n",
      "price                         100810 non-null float64\n",
      "currency                      100809 non-null object\n",
      "price_aprox_local_currency    100810 non-null float64\n",
      "price_aprox_usd               100810 non-null float64\n",
      "surface_total_in_m2           81892 non-null float64\n",
      "surface_covered_in_m2         101313 non-null float64\n",
      "price_usd_per_m2              68617 non-null float64\n",
      "price_per_m2                  87658 non-null float64\n",
      "floor                         7899 non-null float64\n",
      "rooms                         47390 non-null float64\n",
      "expenses                      14262 non-null float64\n",
      "properati_url                 121220 non-null object\n",
      "description                   121218 non-null object\n",
      "title                         121220 non-null object\n",
      "image_thumbnail               118108 non-null object\n",
      "dtypes: float64(13), object(12)\n",
      "memory usage: 24.0+ MB\n"
     ]
    }
   ],
   "source": [
    "dfprop.info()"
   ]
  },
  {
   "cell_type": "markdown",
   "metadata": {},
   "source": [
    "## Visualizacion de valores Nan en cada variable\n",
    "\n",
    "Visualizamos la cantidad de valores Nan para cada variable  "
   ]
  },
  {
   "cell_type": "code",
   "execution_count": 91,
   "metadata": {},
   "outputs": [
    {
     "data": {
      "text/plain": [
       "operation                       0\n",
       "property_type                   0\n",
       "place_name                     23\n",
       "place_with_parent_names         0\n",
       "country_name                    0\n",
       "                            ...  \n",
       "expenses                   106958\n",
       "properati_url                   0\n",
       "description                     2\n",
       "title                           0\n",
       "image_thumbnail              3112\n",
       "Length: 25, dtype: int64"
      ]
     },
     "execution_count": 91,
     "metadata": {},
     "output_type": "execute_result"
    }
   ],
   "source": [
    "dfprop[dfprop.isnull().any(axis=1)].isna().sum()"
   ]
  },
  {
   "cell_type": "markdown",
   "metadata": {},
   "source": [
    "## Limpieza de datos\n",
    "### Eliminacion de inmuebles sin valor analitico\n",
    "\n",
    "Eliminamos los inmuebles sin precio ni ubicaciones, ya que no tenemos ninguna forma de estimar un precio.\n",
    "\n",
    "Condicion:\n",
    "- price == Nan\n",
    "- price_aprox_local_currency == Nan\n",
    "- price_aprox_usd == Nan\n",
    "- surface_total_in_m2 == Nan\n",
    "- surface_covered_in_m2 == Nan\n",
    "\n",
    "\n",
    "Los registros eliminados son 4733 "
   ]
  },
  {
   "cell_type": "code",
   "execution_count": 92,
   "metadata": {},
   "outputs": [],
   "source": [
    "# Generamos una mascara para encontrar todos los registros bajo esta condicion\n",
    "dfprop_withoutprice_withoutsurface=((dfprop['price'].isna()==True)\\\n",
    "                                    &(dfprop['price_aprox_local_currency'].isna()==True)\\\n",
    "                                    &(dfprop['price_aprox_usd'].isna()==True)\\\n",
    "                                    &(dfprop['surface_total_in_m2'].isna()==True)\\\n",
    "                                    &(dfprop['surface_covered_in_m2'].isna()==True))\n",
    "\n",
    "# Instanciamos el Dataframe excluyendo los registros que no cumple con dicha condicion\n",
    "dfprop=dfprop.loc[~dfprop_withoutprice_withoutsurface]\n"
   ]
  },
  {
   "cell_type": "markdown",
   "metadata": {},
   "source": [
    "Visualizamos la forma para confirmar que se hayan eliminado los registros"
   ]
  },
  {
   "cell_type": "code",
   "execution_count": 93,
   "metadata": {},
   "outputs": [
    {
     "data": {
      "text/plain": [
       "(116487, 25)"
      ]
     },
     "execution_count": 93,
     "metadata": {},
     "output_type": "execute_result"
    }
   ],
   "source": [
    "dfprop.shape"
   ]
  },
  {
   "cell_type": "markdown",
   "metadata": {},
   "source": [
    "### Separar en un nuevo Dataframe los inmuebles cuya concentracion por provincia sea menor a 30 operaciones "
   ]
  },
  {
   "cell_type": "markdown",
   "metadata": {},
   "source": [
    "Dejaremos en un nuevo DataFrame denominado 'dfprop_fewlocations' las propiedades cuya agrupacion por provincia sea menor a 30 por no tener un valor referencial para la estimacion de precios"
   ]
  },
  {
   "cell_type": "code",
   "execution_count": 94,
   "metadata": {},
   "outputs": [
    {
     "data": {
      "text/plain": [
       "(74, 25)"
      ]
     },
     "execution_count": 94,
     "metadata": {},
     "output_type": "execute_result"
    }
   ],
   "source": [
    "#Creamos dataframe con un valor booleano que indica si la provincia tiene menos de 30 propiedades (True) o no (False).\n",
    "dfprop_stateless30locations=dfprop.groupby('state_name')[['operation']].count()<30\n",
    "\n",
    "# Renombramos la columna  \n",
    "dfprop_stateless30locations.rename(columns={'state_name':'state_name','operation':'less_30_locations'},inplace=True)\n",
    "\n",
    "# Hacemos un merge con dfprop para marcar cada una de las propiedades\n",
    "dfprop=pd.merge(dfprop,dfprop_stateless30locations,how='left',on='state_name')\n",
    "    \n",
    "# Generamos un nuevo Dataframe para almacenar las propiedades correspondientes a provincias con menos de 30 propiedades\n",
    "dfprop_fewlocations=dfprop.loc[dfprop['less_30_locations']==True]\n",
    "\n",
    "# Eliminamos del dataframe proncipal dichas ubiaciones\n",
    "dfprop=dfprop.loc[dfprop['less_30_locations']==False]\n",
    "\n",
    "#Eliminamos las columnas de ambos dataframes\n",
    "dfprop_fewlocations.drop(['less_30_locations'],axis=1,inplace=True)\n",
    "dfprop.drop(['less_30_locations'],axis=1,inplace=True)\n",
    "\n",
    "#Verificamos la cantidad de ubicaciones dentro del dataframe auxiliar\n",
    "dfprop_fewlocations.shape"
   ]
  },
  {
   "cell_type": "code",
   "execution_count": 95,
   "metadata": {},
   "outputs": [
    {
     "data": {
      "text/plain": [
       "(116413, 25)"
      ]
     },
     "execution_count": 95,
     "metadata": {},
     "output_type": "execute_result"
    }
   ],
   "source": [
    "#Corroboramos que se hayan eliminado las propiedades del dataframe principal\n",
    "dfprop.shape"
   ]
  },
  {
   "cell_type": "markdown",
   "metadata": {},
   "source": [
    "Eliminamos propiedad en moneda 'Pesos Uruguayos' "
   ]
  },
  {
   "cell_type": "code",
   "execution_count": 96,
   "metadata": {},
   "outputs": [
    {
     "data": {
      "text/plain": [
       "(116412, 25)"
      ]
     },
     "execution_count": 96,
     "metadata": {},
     "output_type": "execute_result"
    }
   ],
   "source": [
    "dfprop=dfprop.loc[dfprop['currency']!='UYU']\n",
    "\n",
    "#Corroboramos que se hayan eliminado las propiedades del dataframe principal\n",
    "dfprop.shape"
   ]
  },
  {
   "cell_type": "markdown",
   "metadata": {},
   "source": [
    "# Imputacion\n",
    "## Variable place_name - valores Nan:  \n",
    "- Analizamos los valores NaN de la columna 'place_name':"
   ]
  },
  {
   "cell_type": "code",
   "execution_count": 97,
   "metadata": {},
   "outputs": [
    {
     "data": {
      "text/html": [
       "<div>\n",
       "<style scoped>\n",
       "    .dataframe tbody tr th:only-of-type {\n",
       "        vertical-align: middle;\n",
       "    }\n",
       "\n",
       "    .dataframe tbody tr th {\n",
       "        vertical-align: top;\n",
       "    }\n",
       "\n",
       "    .dataframe thead th {\n",
       "        text-align: right;\n",
       "    }\n",
       "</style>\n",
       "<table border=\"1\" class=\"dataframe\">\n",
       "  <thead>\n",
       "    <tr style=\"text-align: right;\">\n",
       "      <th></th>\n",
       "      <th>place_name</th>\n",
       "      <th>place_with_parent_names</th>\n",
       "    </tr>\n",
       "  </thead>\n",
       "  <tbody>\n",
       "    <tr>\n",
       "      <th>6201</th>\n",
       "      <td>NaN</td>\n",
       "      <td>|Argentina|Bs.As. G.B.A. Zona Norte|Tigre||</td>\n",
       "    </tr>\n",
       "    <tr>\n",
       "      <th>9686</th>\n",
       "      <td>NaN</td>\n",
       "      <td>|Argentina|Bs.As. G.B.A. Zona Norte|Tigre||</td>\n",
       "    </tr>\n",
       "    <tr>\n",
       "      <th>10855</th>\n",
       "      <td>NaN</td>\n",
       "      <td>|Argentina|Bs.As. G.B.A. Zona Norte|Tigre||</td>\n",
       "    </tr>\n",
       "    <tr>\n",
       "      <th>14066</th>\n",
       "      <td>NaN</td>\n",
       "      <td>|Argentina|Bs.As. G.B.A. Zona Norte|Tigre||</td>\n",
       "    </tr>\n",
       "    <tr>\n",
       "      <th>17672</th>\n",
       "      <td>NaN</td>\n",
       "      <td>|Argentina|Bs.As. G.B.A. Zona Norte|Tigre||</td>\n",
       "    </tr>\n",
       "    <tr>\n",
       "      <th>...</th>\n",
       "      <td>...</td>\n",
       "      <td>...</td>\n",
       "    </tr>\n",
       "    <tr>\n",
       "      <th>55036</th>\n",
       "      <td>NaN</td>\n",
       "      <td>|Argentina|Bs.As. G.B.A. Zona Norte|Tigre||</td>\n",
       "    </tr>\n",
       "    <tr>\n",
       "      <th>55996</th>\n",
       "      <td>NaN</td>\n",
       "      <td>|Argentina|Bs.As. G.B.A. Zona Norte|Tigre||</td>\n",
       "    </tr>\n",
       "    <tr>\n",
       "      <th>59189</th>\n",
       "      <td>NaN</td>\n",
       "      <td>|Argentina|Bs.As. G.B.A. Zona Norte|Tigre||</td>\n",
       "    </tr>\n",
       "    <tr>\n",
       "      <th>59191</th>\n",
       "      <td>NaN</td>\n",
       "      <td>|Argentina|Bs.As. G.B.A. Zona Norte|Tigre||</td>\n",
       "    </tr>\n",
       "    <tr>\n",
       "      <th>60539</th>\n",
       "      <td>NaN</td>\n",
       "      <td>|Argentina|Bs.As. G.B.A. Zona Norte|Tigre||</td>\n",
       "    </tr>\n",
       "  </tbody>\n",
       "</table>\n",
       "<p>23 rows × 2 columns</p>\n",
       "</div>"
      ],
      "text/plain": [
       "      place_name                      place_with_parent_names\n",
       "6201         NaN  |Argentina|Bs.As. G.B.A. Zona Norte|Tigre||\n",
       "9686         NaN  |Argentina|Bs.As. G.B.A. Zona Norte|Tigre||\n",
       "10855        NaN  |Argentina|Bs.As. G.B.A. Zona Norte|Tigre||\n",
       "14066        NaN  |Argentina|Bs.As. G.B.A. Zona Norte|Tigre||\n",
       "17672        NaN  |Argentina|Bs.As. G.B.A. Zona Norte|Tigre||\n",
       "...          ...                                          ...\n",
       "55036        NaN  |Argentina|Bs.As. G.B.A. Zona Norte|Tigre||\n",
       "55996        NaN  |Argentina|Bs.As. G.B.A. Zona Norte|Tigre||\n",
       "59189        NaN  |Argentina|Bs.As. G.B.A. Zona Norte|Tigre||\n",
       "59191        NaN  |Argentina|Bs.As. G.B.A. Zona Norte|Tigre||\n",
       "60539        NaN  |Argentina|Bs.As. G.B.A. Zona Norte|Tigre||\n",
       "\n",
       "[23 rows x 2 columns]"
      ]
     },
     "execution_count": 97,
     "metadata": {},
     "output_type": "execute_result"
    }
   ],
   "source": [
    "dfprop.loc[(dfprop['place_name'].isna() == True),['place_name','place_with_parent_names']]"
   ]
  },
  {
   "cell_type": "markdown",
   "metadata": {},
   "source": [
    "- Vemos que, de acuerdo a 'place_name_with_parents', todos los valores faltantes son 'Tigre'.\n",
    "- Por lo tanto, procedemos a reemplazarlos:"
   ]
  },
  {
   "cell_type": "code",
   "execution_count": 98,
   "metadata": {},
   "outputs": [],
   "source": [
    "dfprop['place_name'].fillna( value = 'Tigre', inplace = True)"
   ]
  },
  {
   "cell_type": "markdown",
   "metadata": {},
   "source": [
    "Volvemos a visualizar la cantidad de valores nulos para confirmar que no haya mas valores **Nan** en la variable 'place_name'"
   ]
  },
  {
   "cell_type": "code",
   "execution_count": 99,
   "metadata": {
    "scrolled": true
   },
   "outputs": [
    {
     "data": {
      "text/plain": [
       "operation                       0\n",
       "property_type                   0\n",
       "place_name                      0\n",
       "place_with_parent_names         0\n",
       "country_name                    0\n",
       "                            ...  \n",
       "expenses                   102201\n",
       "properati_url                   0\n",
       "description                     2\n",
       "title                           0\n",
       "image_thumbnail              2863\n",
       "Length: 25, dtype: int64"
      ]
     },
     "execution_count": 99,
     "metadata": {},
     "output_type": "execute_result"
    }
   ],
   "source": [
    "dfprop[dfprop.isnull().any(axis=1)].isna().sum()"
   ]
  },
  {
   "cell_type": "markdown",
   "metadata": {},
   "source": [
    "## Variables 'surface_total_in_m2' y 'surface_covered_in_m2' - valores Nan\n",
    "Analizamos los valores que tienen 'surface_covered_in_m2', pero no 'surface_total_in_m2'"
   ]
  },
  {
   "cell_type": "code",
   "execution_count": 100,
   "metadata": {},
   "outputs": [
    {
     "data": {
      "text/html": [
       "<div>\n",
       "<style scoped>\n",
       "    .dataframe tbody tr th:only-of-type {\n",
       "        vertical-align: middle;\n",
       "    }\n",
       "\n",
       "    .dataframe tbody tr th {\n",
       "        vertical-align: top;\n",
       "    }\n",
       "\n",
       "    .dataframe thead th {\n",
       "        text-align: right;\n",
       "    }\n",
       "</style>\n",
       "<table border=\"1\" class=\"dataframe\">\n",
       "  <thead>\n",
       "    <tr style=\"text-align: right;\">\n",
       "      <th></th>\n",
       "      <th>surface_total_in_m2</th>\n",
       "      <th>surface_covered_in_m2</th>\n",
       "    </tr>\n",
       "  </thead>\n",
       "  <tbody>\n",
       "    <tr>\n",
       "      <th>68</th>\n",
       "      <td>NaN</td>\n",
       "      <td>72.0</td>\n",
       "    </tr>\n",
       "    <tr>\n",
       "      <th>77</th>\n",
       "      <td>NaN</td>\n",
       "      <td>85.0</td>\n",
       "    </tr>\n",
       "    <tr>\n",
       "      <th>79</th>\n",
       "      <td>NaN</td>\n",
       "      <td>42.0</td>\n",
       "    </tr>\n",
       "    <tr>\n",
       "      <th>87</th>\n",
       "      <td>NaN</td>\n",
       "      <td>170.0</td>\n",
       "    </tr>\n",
       "    <tr>\n",
       "      <th>89</th>\n",
       "      <td>NaN</td>\n",
       "      <td>53.0</td>\n",
       "    </tr>\n",
       "  </tbody>\n",
       "</table>\n",
       "</div>"
      ],
      "text/plain": [
       "    surface_total_in_m2  surface_covered_in_m2\n",
       "68                  NaN                   72.0\n",
       "77                  NaN                   85.0\n",
       "79                  NaN                   42.0\n",
       "87                  NaN                  170.0\n",
       "89                  NaN                   53.0"
      ]
     },
     "execution_count": 100,
     "metadata": {},
     "output_type": "execute_result"
    }
   ],
   "source": [
    "dfprop_surfaceanalysis = dfprop[(dfprop['surface_total_in_m2'].isna() == True) & (dfprop['surface_covered_in_m2'].isna() == False)]\n",
    "dfprop_surfaceanalysis[['surface_total_in_m2', 'surface_covered_in_m2']].head()"
   ]
  },
  {
   "cell_type": "markdown",
   "metadata": {},
   "source": [
    "Reemplazamos los valores NaN de la columna 'surface_total_in_m2', asumiendo que en estos casos es igual al valor de 'surface_covered_in_m2'"
   ]
  },
  {
   "cell_type": "code",
   "execution_count": 101,
   "metadata": {},
   "outputs": [],
   "source": [
    "dfprop.fillna({'surface_total_in_m2' : dfprop['surface_covered_in_m2']}, inplace = True)"
   ]
  },
  {
   "cell_type": "markdown",
   "metadata": {},
   "source": [
    "Volvemos a constatar la cantidad de valores nulos en el dataframe:"
   ]
  },
  {
   "cell_type": "code",
   "execution_count": 102,
   "metadata": {},
   "outputs": [
    {
     "data": {
      "text/plain": [
       "operation                       0\n",
       "property_type                   0\n",
       "place_name                      0\n",
       "place_with_parent_names         0\n",
       "country_name                    0\n",
       "                            ...  \n",
       "expenses                   102201\n",
       "properati_url                   0\n",
       "description                     2\n",
       "title                           0\n",
       "image_thumbnail              2863\n",
       "Length: 25, dtype: int64"
      ]
     },
     "execution_count": 102,
     "metadata": {},
     "output_type": "execute_result"
    }
   ],
   "source": [
    "dfprop[dfprop.isnull().any(axis=1)].isna().sum()"
   ]
  },
  {
   "cell_type": "markdown",
   "metadata": {},
   "source": [
    "Repetimos la operación para los casos en los que no tenemos valor de 'surface_covered_in_m2', completando con el valor de 'surface_total_in_m2':"
   ]
  },
  {
   "cell_type": "code",
   "execution_count": 103,
   "metadata": {},
   "outputs": [
    {
     "data": {
      "text/html": [
       "<div>\n",
       "<style scoped>\n",
       "    .dataframe tbody tr th:only-of-type {\n",
       "        vertical-align: middle;\n",
       "    }\n",
       "\n",
       "    .dataframe tbody tr th {\n",
       "        vertical-align: top;\n",
       "    }\n",
       "\n",
       "    .dataframe thead th {\n",
       "        text-align: right;\n",
       "    }\n",
       "</style>\n",
       "<table border=\"1\" class=\"dataframe\">\n",
       "  <thead>\n",
       "    <tr style=\"text-align: right;\">\n",
       "      <th></th>\n",
       "      <th>surface_total_in_m2</th>\n",
       "      <th>surface_covered_in_m2</th>\n",
       "    </tr>\n",
       "  </thead>\n",
       "  <tbody>\n",
       "    <tr>\n",
       "      <th>5</th>\n",
       "      <td>53.0</td>\n",
       "      <td>NaN</td>\n",
       "    </tr>\n",
       "    <tr>\n",
       "      <th>10</th>\n",
       "      <td>1514.0</td>\n",
       "      <td>NaN</td>\n",
       "    </tr>\n",
       "    <tr>\n",
       "      <th>15</th>\n",
       "      <td>164.0</td>\n",
       "      <td>NaN</td>\n",
       "    </tr>\n",
       "    <tr>\n",
       "      <th>66</th>\n",
       "      <td>38.0</td>\n",
       "      <td>NaN</td>\n",
       "    </tr>\n",
       "    <tr>\n",
       "      <th>67</th>\n",
       "      <td>220.0</td>\n",
       "      <td>NaN</td>\n",
       "    </tr>\n",
       "  </tbody>\n",
       "</table>\n",
       "</div>"
      ],
      "text/plain": [
       "    surface_total_in_m2  surface_covered_in_m2\n",
       "5                  53.0                    NaN\n",
       "10               1514.0                    NaN\n",
       "15                164.0                    NaN\n",
       "66                 38.0                    NaN\n",
       "67                220.0                    NaN"
      ]
     },
     "execution_count": 103,
     "metadata": {},
     "output_type": "execute_result"
    }
   ],
   "source": [
    "dfprop_surfaceanalysis = dfprop[(dfprop['surface_covered_in_m2'].isna() == True) & (dfprop['surface_total_in_m2'].isna() == False)]\n",
    "dfprop_surfaceanalysis[['surface_total_in_m2', 'surface_covered_in_m2']].head()"
   ]
  },
  {
   "cell_type": "code",
   "execution_count": 104,
   "metadata": {},
   "outputs": [],
   "source": [
    "dfprop.fillna({'surface_covered_in_m2' : dfprop['surface_total_in_m2']}, inplace = True)\n"
   ]
  },
  {
   "cell_type": "code",
   "execution_count": 105,
   "metadata": {},
   "outputs": [
    {
     "data": {
      "text/plain": [
       "operation                       0\n",
       "property_type                   0\n",
       "place_name                      0\n",
       "place_with_parent_names         0\n",
       "country_name                    0\n",
       "                            ...  \n",
       "expenses                   102201\n",
       "properati_url                   0\n",
       "description                     2\n",
       "title                           0\n",
       "image_thumbnail              2863\n",
       "Length: 25, dtype: int64"
      ]
     },
     "execution_count": 105,
     "metadata": {},
     "output_type": "execute_result"
    }
   ],
   "source": [
    "dfprop[dfprop.isnull().any(axis=1)].isna().sum()"
   ]
  },
  {
   "cell_type": "markdown",
   "metadata": {},
   "source": [
    "Imputamos la variable 'price_per_m2' calculandola en base a 'price_aprox_us' y 'surface_total_in_m2' "
   ]
  },
  {
   "cell_type": "code",
   "execution_count": 106,
   "metadata": {},
   "outputs": [],
   "source": [
    "\n",
    "dfprop.loc[dfprop['price_usd_per_m2'].isna() &\\\n",
    "           (~dfprop['price_aprox_usd'].isna())&\\\n",
    "            (~dfprop['surface_total_in_m2'].isna())&\\\n",
    "            (dfprop['surface_total_in_m2']!=0.),\\\n",
    "           'price_usd_per_m2']= dfprop['price_aprox_usd']/dfprop['surface_total_in_m2']"
   ]
  },
  {
   "cell_type": "code",
   "execution_count": 107,
   "metadata": {
    "scrolled": true
   },
   "outputs": [
    {
     "data": {
      "text/plain": [
       "operation                       0\n",
       "property_type                   0\n",
       "place_name                      0\n",
       "place_with_parent_names         0\n",
       "country_name                    0\n",
       "                            ...  \n",
       "expenses                   102201\n",
       "properati_url                   0\n",
       "description                     2\n",
       "title                           0\n",
       "image_thumbnail              2863\n",
       "Length: 25, dtype: int64"
      ]
     },
     "execution_count": 107,
     "metadata": {},
     "output_type": "execute_result"
    }
   ],
   "source": [
    "dfprop[dfprop.isnull().any(axis=1)].isna().sum()"
   ]
  },
  {
   "cell_type": "code",
   "execution_count": 108,
   "metadata": {},
   "outputs": [
    {
     "data": {
      "text/plain": [
       "(116412, 25)"
      ]
     },
     "execution_count": 108,
     "metadata": {},
     "output_type": "execute_result"
    }
   ],
   "source": [
    "dfprop.shape"
   ]
  },
  {
   "cell_type": "markdown",
   "metadata": {},
   "source": [
    "Eliminamos propiedades sin precio y con cantidad de metro=0"
   ]
  },
  {
   "cell_type": "code",
   "execution_count": 109,
   "metadata": {},
   "outputs": [
    {
     "data": {
      "text/plain": [
       "(116278, 25)"
      ]
     },
     "execution_count": 109,
     "metadata": {},
     "output_type": "execute_result"
    }
   ],
   "source": [
    "\n",
    "dfprop=dfprop.drop(dfprop.loc[(dfprop['price_usd_per_m2'].isna())&\n",
    "                                 (dfprop['price'].isna())&\n",
    "                                 (dfprop['surface_total_in_m2']==0)].index)\n",
    "\n",
    "dfprop.shape"
   ]
  },
  {
   "cell_type": "markdown",
   "metadata": {},
   "source": [
    "### Variable  'state_name' vs 'place_with_parent_names'\n",
    "Notamos que la columna **'place_name'** contiene valores no que aportan una clara referencia de la ubicacion geografica del inmueble.\n",
    "\n",
    "Por ejemplo\n",
    "- place_name: 'Centro'\n",
    "- place_with_parent_names: '|Argentina|Buenos Aires Costa Atlántica|Mar del Plata|Centro|'\n",
    "\n",
    "Adicionalmente, los valores contenidos por esta columna no tienen el mismo valor referencial, lo cual difculta entender la precision de dicha columna. \n",
    "\n",
    "Por ello utilizamos **'place_with_parent_names'** que nos permite definir correctamente la ubicacion geografica del inmueble. \n",
    "\n",
    "Por lo tanto, separamos el texto y generaremos una nueva columna quedando el dataset con esta estructura.\n",
    "\n",
    "- country_name: Pais\n",
    "- state_name: provincia (salvo buenos aires que indicara la zona)\n",
    "- district_name: localidad o partido\n",
    "- city_name: barrio\n"
   ]
  },
  {
   "cell_type": "code",
   "execution_count": 110,
   "metadata": {
    "scrolled": false
   },
   "outputs": [
    {
     "data": {
      "text/html": [
       "<div>\n",
       "<style scoped>\n",
       "    .dataframe tbody tr th:only-of-type {\n",
       "        vertical-align: middle;\n",
       "    }\n",
       "\n",
       "    .dataframe tbody tr th {\n",
       "        vertical-align: top;\n",
       "    }\n",
       "\n",
       "    .dataframe thead th {\n",
       "        text-align: right;\n",
       "    }\n",
       "</style>\n",
       "<table border=\"1\" class=\"dataframe\">\n",
       "  <thead>\n",
       "    <tr style=\"text-align: right;\">\n",
       "      <th></th>\n",
       "      <th>country_name</th>\n",
       "      <th>state_name</th>\n",
       "      <th>district_name</th>\n",
       "      <th>city_name</th>\n",
       "    </tr>\n",
       "  </thead>\n",
       "  <tbody>\n",
       "    <tr>\n",
       "      <th>0</th>\n",
       "      <td>Argentina</td>\n",
       "      <td>Capital Federal</td>\n",
       "      <td>Mataderos</td>\n",
       "      <td>NaN</td>\n",
       "    </tr>\n",
       "    <tr>\n",
       "      <th>1</th>\n",
       "      <td>Argentina</td>\n",
       "      <td>Bs.As. G.B.A. Zona Sur</td>\n",
       "      <td>La Plata</td>\n",
       "      <td>NaN</td>\n",
       "    </tr>\n",
       "    <tr>\n",
       "      <th>2</th>\n",
       "      <td>Argentina</td>\n",
       "      <td>Capital Federal</td>\n",
       "      <td>Mataderos</td>\n",
       "      <td>NaN</td>\n",
       "    </tr>\n",
       "    <tr>\n",
       "      <th>3</th>\n",
       "      <td>Argentina</td>\n",
       "      <td>Capital Federal</td>\n",
       "      <td>Liniers</td>\n",
       "      <td>NaN</td>\n",
       "    </tr>\n",
       "    <tr>\n",
       "      <th>4</th>\n",
       "      <td>Argentina</td>\n",
       "      <td>Buenos Aires Costa Atlántica</td>\n",
       "      <td>Mar del Plata</td>\n",
       "      <td>Centro</td>\n",
       "    </tr>\n",
       "    <tr>\n",
       "      <th>...</th>\n",
       "      <td>...</td>\n",
       "      <td>...</td>\n",
       "      <td>...</td>\n",
       "      <td>...</td>\n",
       "    </tr>\n",
       "    <tr>\n",
       "      <th>116482</th>\n",
       "      <td>Argentina</td>\n",
       "      <td>Capital Federal</td>\n",
       "      <td>Belgrano</td>\n",
       "      <td>NaN</td>\n",
       "    </tr>\n",
       "    <tr>\n",
       "      <th>116483</th>\n",
       "      <td>Argentina</td>\n",
       "      <td>Bs.As. G.B.A. Zona Norte</td>\n",
       "      <td>San Isidro</td>\n",
       "      <td>Beccar</td>\n",
       "    </tr>\n",
       "    <tr>\n",
       "      <th>116484</th>\n",
       "      <td>Argentina</td>\n",
       "      <td>Capital Federal</td>\n",
       "      <td>Villa Urquiza</td>\n",
       "      <td>NaN</td>\n",
       "    </tr>\n",
       "    <tr>\n",
       "      <th>116485</th>\n",
       "      <td>Argentina</td>\n",
       "      <td>Buenos Aires Costa Atlántica</td>\n",
       "      <td>Mar del Plata</td>\n",
       "      <td>Plaza Colón</td>\n",
       "    </tr>\n",
       "    <tr>\n",
       "      <th>116486</th>\n",
       "      <td>Argentina</td>\n",
       "      <td>Capital Federal</td>\n",
       "      <td>NaN</td>\n",
       "      <td>NaN</td>\n",
       "    </tr>\n",
       "  </tbody>\n",
       "</table>\n",
       "<p>116278 rows × 4 columns</p>\n",
       "</div>"
      ],
      "text/plain": [
       "       country_name                    state_name  district_name    city_name\n",
       "0         Argentina               Capital Federal      Mataderos          NaN\n",
       "1         Argentina        Bs.As. G.B.A. Zona Sur       La Plata          NaN\n",
       "2         Argentina               Capital Federal      Mataderos          NaN\n",
       "3         Argentina               Capital Federal        Liniers          NaN\n",
       "4         Argentina  Buenos Aires Costa Atlántica  Mar del Plata       Centro\n",
       "...             ...                           ...            ...          ...\n",
       "116482    Argentina               Capital Federal       Belgrano          NaN\n",
       "116483    Argentina      Bs.As. G.B.A. Zona Norte     San Isidro       Beccar\n",
       "116484    Argentina               Capital Federal  Villa Urquiza          NaN\n",
       "116485    Argentina  Buenos Aires Costa Atlántica  Mar del Plata  Plaza Colón\n",
       "116486    Argentina               Capital Federal            NaN          NaN\n",
       "\n",
       "[116278 rows x 4 columns]"
      ]
     },
     "execution_count": 110,
     "metadata": {},
     "output_type": "execute_result"
    }
   ],
   "source": [
    "# Split por el caracter \"|\"\n",
    "dfplacename=[sublista.split('|') for sublista in dfprop['place_with_parent_names']]\n",
    "\n",
    "# De cada una de las listas quitamos el ultimo y el primer caracter, ya que son vacios\n",
    "# ['', 'Argentina', 'Bs.As. G.B.A. Zona Norte', 'Vicente López', 'Munro', '']\n",
    "dfplacename=[sublista[1:5] for sublista in dfplacename]\n",
    "\n",
    "\n",
    "# Se extrae el nombre de distrito o localidad en una nueva variable denominada 'district_name'\n",
    "dfprop['district_name']=[str.strip(sublista[2]) if str.strip(sublista[2])!='' else np.nan for sublista in dfplacename]\n",
    "\n",
    "\n",
    "# Se extrae el nombre de la ciudad o barrio en una nueva variable denominada 'city_name'\n",
    "dfprop['city_name']=[str.strip(sublista[3]) if (len(sublista)>3  and sublista[3]) else np.nan for sublista in dfplacename]\n",
    "\n",
    "# Finalmente columnas a ser utilizada seran:\n",
    "# 'country_name'\n",
    "# 'state_name'\n",
    "# 'district_name'\n",
    "#  'city_name'\n",
    "# A partir de esas hacer las imputaciones\n",
    "\n",
    "dfprop[['country_name','state_name','district_name','city_name']]"
   ]
  },
  {
   "cell_type": "markdown",
   "metadata": {},
   "source": [
    "### Eliminamos inmuebles sin nombre del distrito"
   ]
  },
  {
   "cell_type": "markdown",
   "metadata": {},
   "source": [
    "Quitamos casos sin district_name ya que no nos permiten brindar un valor de referencia debido a que no tienen una zona claramente indicada   "
   ]
  },
  {
   "cell_type": "code",
   "execution_count": 111,
   "metadata": {},
   "outputs": [
    {
     "data": {
      "text/plain": [
       "(111748, 27)"
      ]
     },
     "execution_count": 111,
     "metadata": {},
     "output_type": "execute_result"
    }
   ],
   "source": [
    "mask_nodistrict_nocity_silatlon=(dfprop['district_name'].isna()==True)\n",
    "dfprop=dfprop.loc[~mask_nodistrict_nocity_silatlon]\n",
    "dfprop.shape"
   ]
  },
  {
   "cell_type": "markdown",
   "metadata": {},
   "source": [
    "### Eliminamos las propiedades que por barrio no lleguen a 30 propiedades"
   ]
  },
  {
   "cell_type": "code",
   "execution_count": 112,
   "metadata": {
    "scrolled": true
   },
   "outputs": [
    {
     "data": {
      "text/plain": [
       "(110218, 27)"
      ]
     },
     "execution_count": 112,
     "metadata": {},
     "output_type": "execute_result"
    }
   ],
   "source": [
    "# Obtenemos un dataframe con las propiedades sin precio y con district_name \n",
    "dfsin_precio=dfprop.loc[dfprop['price_usd_per_m2'].isna() &\\\n",
    "                        (~dfprop['district_name'].isna())].groupby(['state_name','district_name'])[['operation']].count()\n",
    "\n",
    "# Obtenemos un dataframe con las propiedades con precio y con district_name\n",
    "dfcon_precio=dfprop.loc[(~dfprop['price_usd_per_m2'].isna()) &\\\n",
    "                        (~dfprop['district_name'].isna())].groupby(['state_name','district_name'])[['operation']].count()\n",
    "\n",
    "# Unimos ambos dataframe y agrupamos para obtener la cantidad de propiedades sin y con precio para cada district_name\n",
    "#Agrupamos por state_name y district_name para evitar que distritos de diferentes provincias se agrupen indebidamente \n",
    "df_merge=pd.merge(dfsin_precio,dfcon_precio,how='left',on=['state_name','district_name'])\n",
    "\n",
    "# Renombro columnas a efectos practicos en la interpretacion\n",
    "df_merge.rename(columns={'operation_x':'sin precio','operation_y':'con precio'},inplace=True)\n",
    "\n",
    "# Creo una columna para obtener el total de propiedades\n",
    "df_merge['total']=df_merge['con precio']+df_merge['sin precio']\n",
    "\n",
    "# Calculo el % de propiedaes sin precio respecto al total de propiedades\n",
    "df_merge['%']=df_merge['sin precio']/df_merge['total']\n",
    "\n",
    "# Filtramos los distritos con menos de 30 propiedades, los cuales seran excluidos del dataset\n",
    "df_merge=df_merge.loc[df_merge['total']<=30]\n",
    "\n",
    "#Hacemos un merge con dfprop para que las propiedades a ser removidas queden marcadas\n",
    "dfpropdelete=pd.merge(dfprop,df_merge,how='left',on=['state_name','district_name'])\n",
    "\n",
    "# Filtro el dataframe para obtener las propiedades a ingresar en dfprop \n",
    "dfprop=dfpropdelete.loc[dfpropdelete['total'].isna()]\n",
    "\n",
    "# eliminon las columnas utilizadas en este analisis\n",
    "dfprop.drop(['sin precio','con precio','%','total'],axis=1,inplace=True)\n",
    "\n",
    "# Filtro el dataframe para obtener las propiedades excluidas \n",
    "dfpropdelete=dfpropdelete.loc[(~dfpropdelete['total'].isna())]\n",
    "\n",
    "# eliminon las columnas utilizadas en este analisis\n",
    "dfpropdelete.drop(['sin precio','con precio','%','total'],axis=1,inplace=True)\n",
    "\n",
    "# Agrego las propiedades excluidas al dataframe \n",
    "dfprop_fewlocations=dfprop_fewlocations.append(dfpropdelete)\n",
    "\n",
    "dfprop.shape"
   ]
  },
  {
   "cell_type": "markdown",
   "metadata": {},
   "source": [
    "Corroboramos que el dataframe 'dfprop_fewlocations' se hayan agregado las propiedaes excluidas "
   ]
  },
  {
   "cell_type": "code",
   "execution_count": 113,
   "metadata": {},
   "outputs": [
    {
     "data": {
      "text/plain": [
       "(1604, 27)"
      ]
     },
     "execution_count": 113,
     "metadata": {},
     "output_type": "execute_result"
    }
   ],
   "source": [
    "dfprop_fewlocations.shape\n"
   ]
  },
  {
   "cell_type": "markdown",
   "metadata": {},
   "source": [
    "Corroboramos la cantidad de nan en la variable 'price_usd_per_m2'"
   ]
  },
  {
   "cell_type": "code",
   "execution_count": 114,
   "metadata": {},
   "outputs": [
    {
     "data": {
      "text/plain": [
       "operation                      0\n",
       "property_type                  0\n",
       "place_name                     0\n",
       "place_with_parent_names        0\n",
       "country_name                   0\n",
       "                           ...  \n",
       "description                    2\n",
       "title                          0\n",
       "image_thumbnail             2520\n",
       "district_name                  0\n",
       "city_name                  70924\n",
       "Length: 27, dtype: int64"
      ]
     },
     "execution_count": 114,
     "metadata": {},
     "output_type": "execute_result"
    }
   ],
   "source": [
    "dfprop[dfprop.isnull().any(axis=1)].isna().sum()"
   ]
  },
  {
   "cell_type": "code",
   "execution_count": 115,
   "metadata": {
    "scrolled": true
   },
   "outputs": [
    {
     "data": {
      "text/plain": [
       "(107903, 27)"
      ]
     },
     "execution_count": 115,
     "metadata": {},
     "output_type": "execute_result"
    }
   ],
   "source": [
    "# Obtenemos un dataframe con las propiedades sin precio y con district_name \n",
    "dfsin_precio=dfprop.loc[dfprop['price_usd_per_m2'].isna() &\\\n",
    "                        (~dfprop['district_name'].isna())].groupby(['state_name','district_name'])[['operation']].count()\n",
    "\n",
    "# Obtenemos un dataframe con las propiedades con precio y con district_name\n",
    "dfcon_precio=dfprop.loc[(~dfprop['price_usd_per_m2'].isna()) &\\\n",
    "                        (~dfprop['district_name'].isna())].groupby(['state_name','district_name'])[['operation']].count()\n",
    "\n",
    "# Unimos ambos dataframe y agrupamos para obtener la cantidad de propiedades sin y con precio para cada district_name\n",
    "#Agrupamos por state_name y district_name para evitar que distritos de diferentes provincias se agrupen indebidamente \n",
    "df_merge=pd.merge(dfsin_precio,dfcon_precio,how='left',on=['state_name','district_name'])\n",
    "\n",
    "# Renombro columnas a efectos practicos en la interpretacion\n",
    "df_merge.rename(columns={'operation_x':'sin precio','operation_y':'con precio'},inplace=True)\n",
    "\n",
    "# Creo una columna para obtener el total de propiedades\n",
    "df_merge['total']=df_merge['con precio']+df_merge['sin precio']\n",
    "\n",
    "# Calculo el % de propiedaes sin precio respecto al total de propiedades\n",
    "df_merge['%']=df_merge['sin precio']/df_merge['total']\n",
    "\n",
    "# Filtramos los distritos cuya relacion con la cantidad total de propiedades sea mayor a 0.5\n",
    "df_merge=df_merge.loc[df_merge['%']>0.5]\n",
    "\n",
    "#Hacemos un merge con dfprop para que las propiedades a ser removidas queden marcadas\n",
    "dfpropdelete=pd.merge(dfprop,df_merge,how='left',on=['state_name','district_name'])\n",
    "\n",
    "# Filtro el dataframe para obtener las propiedades a ingresar en dfprop \n",
    "dfprop= dfpropdelete.loc[dfpropdelete['total'].isna()|(~dfpropdelete['total'].isna())&(~dfpropdelete['price_usd_per_m2'].isna())]\n",
    "\n",
    "# eliminon las columnas utilizadas en este analisis\n",
    "dfprop.drop(['sin precio','con precio','%','total'],axis=1,inplace=True)\n",
    "\n",
    "# Filtro el dataframe para obtener las propiedades excluidas \n",
    "dfpropdelete= dfpropdelete.loc[(~(dfpropdelete['total'].isna()|(~dfpropdelete['total'].isna())&(~dfpropdelete['price_usd_per_m2'].isna())))]\n",
    "\n",
    "# elimino las columnas utilizadas en este analisis\n",
    "dfpropdelete.drop(['sin precio','con precio','%','total'],axis=1,inplace=True)\n",
    "\n",
    "# Agrego las propiedades excluidas al dataframe \n",
    "dfprop_fewlocations=dfprop_fewlocations.append(dfpropdelete)\n",
    "\n",
    "dfprop.shape"
   ]
  },
  {
   "cell_type": "markdown",
   "metadata": {},
   "source": [
    "Corroboramos que el dataframe 'dfprop_fewlocations' se hayan agregado las propiedaes excluidas "
   ]
  },
  {
   "cell_type": "code",
   "execution_count": 116,
   "metadata": {},
   "outputs": [
    {
     "data": {
      "text/plain": [
       "(3919, 27)"
      ]
     },
     "execution_count": 116,
     "metadata": {},
     "output_type": "execute_result"
    }
   ],
   "source": [
    "dfprop_fewlocations.shape"
   ]
  },
  {
   "cell_type": "markdown",
   "metadata": {},
   "source": [
    "Corroboramos la cantidad de nan en la variable 'price_usd_per_m2'"
   ]
  },
  {
   "cell_type": "code",
   "execution_count": 117,
   "metadata": {},
   "outputs": [
    {
     "data": {
      "text/plain": [
       "operation                      0\n",
       "property_type                  0\n",
       "place_name                     0\n",
       "place_with_parent_names        0\n",
       "country_name                   0\n",
       "                           ...  \n",
       "description                    2\n",
       "title                          0\n",
       "image_thumbnail             2466\n",
       "district_name                  0\n",
       "city_name                  69386\n",
       "Length: 27, dtype: int64"
      ]
     },
     "execution_count": 117,
     "metadata": {},
     "output_type": "execute_result"
    }
   ],
   "source": [
    "dfprop[dfprop.isnull().any(axis=1)].isna().sum()"
   ]
  },
  {
   "cell_type": "markdown",
   "metadata": {},
   "source": [
    "Dejar city_name en vacio donde City_name=district_name para evitar una agrupacion de city_name de distritos"
   ]
  },
  {
   "cell_type": "code",
   "execution_count": 118,
   "metadata": {
    "scrolled": false
   },
   "outputs": [],
   "source": [
    "dfprop_city_equal_district=dfprop['city_name'] == dfprop['district_name']\n",
    "dfprop.loc[dfprop_city_equal_district,'city_name']=np.nan"
   ]
  },
  {
   "cell_type": "markdown",
   "metadata": {},
   "source": [
    "### Imputacion de Price_USD_M2 con valor NaN\n",
    "\n",
    "1- Asignar price por ubicacion geografica (buffer-reducido)\n",
    "\n",
    "2- Asignar price por ubicacion geografica (buffer-ampliado)\n",
    "\n",
    "3- Crear un cluster por country-state-district-city e imputar el precio por m2 promedio a los registros que no tengan Nan en city_name \n",
    "\n",
    "4- Crear un cluster por country-state-district e imputar el precio por m2 promedio a los registros que tengan Nan en city_name y no tengan NaN en district_name\n",
    "\n",
    "5- Eliminar registros que no se les haya podido imputar precio "
   ]
  },
  {
   "cell_type": "code",
   "execution_count": 119,
   "metadata": {},
   "outputs": [],
   "source": [
    "# Cargo propiedades en el mapa usando lat lon\n",
    "import geopandas\n",
    "import shapely.wkt\n",
    "import rtree\n",
    "pd.options.display.max_rows = 10\n",
    "import matplotlib.pyplot as plt\n",
    "%matplotlib inline\n",
    "\n",
    "from shapely.geometry import Point\n",
    "\n",
    "# Funcion para crear puntos a partir del lat-lon\n",
    "def from_x_y(df, x, y):\n",
    "    gdf = geopandas.GeoDataFrame(df.drop([x, y], axis=1),\n",
    "                                crs={'init': 'epsg:4326'},\n",
    "                                geometry=[Point(xy) for xy in zip(df[x], df[y])])\n",
    "    return gdf\n",
    "\n",
    "\n",
    "def getProyectionBuffer(locations,buff):\n",
    "    loc_gkba = locations.to_crs(crs = \"+proj=tmerc +lat_0=-34.629269 +lon_0=-58.4633 +k=0.9999980000000001 +x_0=100000 +y_0=100000 +ellps=intl +units=m +no_defs\")\n",
    "    loc_gkba_buff=loc_gkba.copy()\n",
    "    loc_gkba_buff.geometry = loc_gkba.buffer(buff)\n",
    "    return loc_gkba_buff\n",
    "    \n",
    "# Funcion para obtener el precio promedio por buffer\n",
    "def getMeanBuffer(dfprop_noprice_loc,location_price_gkba_buff,indexprop,variableToEstimate,buffer):\n",
    "    \n",
    "    locations_noprice=from_x_y(dfprop_noprice_loc.loc[[indexprop]], \"lon\", \"lat\")\n",
    "    \n",
    "     # Creo un buffer \n",
    "    locations_noprice_gkba_buff=getProyectionBuffer(locations_noprice,buffer)    \n",
    "    \n",
    "    # Borramos la columna 'price_aprox_usd' del dataframe que no tiene precio\n",
    "    locations_noprice_gkba_buff.drop(variableToEstimate,axis=1,inplace=True)\n",
    "\n",
    "    try:\n",
    "        #Busco la interseccion\n",
    "        intersection = geopandas.overlay(locations_noprice_gkba_buff,location_price_gkba_buff, how = \"intersection\")\n",
    "\n",
    "        price_mean=intersection[variableToEstimate].mean()\n",
    "\n",
    "        return float(price_mean)\n",
    "    except:\n",
    "        #Si no encuentro la interseccion, devuelvo 0\n",
    "        return float(0)\n",
    "\n",
    "    \n",
    "def estimateVariable(dfToEstimate,variableToEstimate):\n",
    "\n",
    "    # Obtengo dataframe de todas las propiedades de una localidad SIN precio\n",
    "    dfprop_noprice=dfToEstimate.loc[((~dfToEstimate['lat'].isna()) &\\\n",
    "                               (~dfToEstimate['lon'].isna()) &\\\n",
    "                               dfToEstimate[variableToEstimate].isna() &\\\n",
    "                               (~dfToEstimate['district_name'].isna()))]\n",
    "\n",
    "    # Obtengo dataframe de todas las propiedades de una localidad CON precio\n",
    "    dfprop_price=dfToEstimate.loc[((~dfToEstimate['lat'].isna()) &\\\n",
    "                             (~dfToEstimate['lon'].isna()) &\\\n",
    "                             (~dfToEstimate[variableToEstimate].isna())&\\\n",
    "                             (~dfToEstimate['district_name'].isna()))]\n",
    "\n",
    "\n",
    "    # Creo key de listado de localidades\n",
    "    dfprop_noprice['district_name_key']=dfprop_noprice['country_name']+\"-\"+\\\n",
    "                                      dfprop_noprice['state_name']+\"-\"+\\\n",
    "                                      dfprop_noprice['district_name']\n",
    "\n",
    "\n",
    "    dfprop_price['district_name_key']=dfprop_price['country_name']+\"-\"+\\\n",
    "                                      dfprop_price['state_name']+\"-\"+\\\n",
    "                                      dfprop_price['district_name']\n",
    "\n",
    "    crs = {'init': 'epsg:4326'} \n",
    "\n",
    "    # Filtro por una localidad\n",
    "    # Repito la operacion por localidad \n",
    "    for proploc in dfprop_noprice['district_name_key'].unique():\n",
    "        i=1\n",
    "\n",
    "        # Extraigo en 2 dataframes las propiedades sin precio y con precio\n",
    "        dfprop_noprice_loc= dfprop_noprice.loc[dfprop_noprice['district_name_key']==proploc]\n",
    "        dfprop_price_loc= dfprop_price.loc[dfprop_price['district_name_key']==proploc]\n",
    "\n",
    "        # Cargo todas las propiedades con precio en geopandas\n",
    "        locations_with_price = from_x_y(dfprop_price_loc.loc[:,[variableToEstimate,'lon','lat']], \"lon\", \"lat\")\n",
    "\n",
    "        # Creo la proyeccion de las propiedades con precio \n",
    "        locations_with_price_gkba_buff=getProyectionBuffer(locations_with_price,1) \n",
    "        \n",
    "        print('Localidad: '+proploc + 'Cantidad de propiedades:'+ str(dfprop_noprice_loc['operation'].count()))\n",
    "        # Busco el precio para cada propiedad de esa localidad \n",
    "        for iprop in dfprop_noprice_loc[:].index:\n",
    "            \n",
    "            #print('\\tBusco precio por 1Km')\n",
    "            # Busco y asigno el precio promedio de las propiedades a 1km de distancia \n",
    "            mean_price=getMeanBuffer(dfprop_noprice_loc,locations_with_price_gkba_buff,iprop,variableToEstimate,1000)\n",
    "\n",
    "            # Si no encuentro un precio promedio de las propiedades a 1.5km de distancia \n",
    "            if(mean_price==0):\n",
    "                #print('\\tBusco precio por 1.5Km')\n",
    "                mean_price=getMeanBuffer(dfprop_noprice_loc,locations_with_price_gkba_buff,iprop,variableToEstimate,1500)\n",
    "\n",
    "\n",
    "            city_name=str(dfprop_noprice_loc.loc[:,'city_name'].loc[iprop])\n",
    "            # Si no encuentro un precio promedio y la propiedad tiene barrio, busco el promedio para el barrio  \n",
    "            if((mean_price==0) & (city_name!='nan')):\n",
    "                #print('\\tCalculo por barrio',city_name)\n",
    "                # Creo mascara para solo calcular la media de las propiedades con precio en el mismo barrio\n",
    "                city_name_mask=(dfprop_price_loc.loc[:,'city_name']==city_name)\n",
    "                #VArifico que haya alguna propiedad con precio para ese barrio\n",
    "                if(dfprop_price_loc[city_name_mask].empty==False):\n",
    "                    # Aplico la mascara y calculo la media\n",
    "                    #print('calculo media por barrio')\n",
    "                    mean_price=dfprop_price_loc.loc[city_name_mask,variableToEstimate].median()\n",
    "                else:\n",
    "                    mean_price=0\n",
    "\n",
    "             # Si no encuentro un precio promedio busco el promedio para la localidad  \n",
    "            if(mean_price==0):\n",
    "                #Calculo el precio promedio en base a propiedades en la misma localidad\n",
    "               # print('\\tCalculo por localidad')\n",
    "                mean_price=dfprop_price_loc[variableToEstimate].median()\n",
    "\n",
    "            print('\\t'+str(i)+' - Mean Price= '+str(mean_price))\n",
    "\n",
    "            dfToEstimate.loc[dfToEstimate.loc[[iprop]].index,variableToEstimate]=mean_price\n",
    "            i=i+1\n",
    "            \n",
    "        print('---------------------------------------------') \n",
    "        \n",
    "    return dfToEstimate\n",
    "       \n",
    "\n",
    "\n",
    "dfprop=estimateVariable(dfprop,'price_usd_per_m2')\n",
    "\n"
   ]
  },
  {
   "cell_type": "markdown",
   "metadata": {},
   "source": [
    "Imputamos el valor de 'price_usd_per_m2' promedio del distrito en los casos cuyo valor es 'Nan' y no tienen lat-lon"
   ]
  },
  {
   "cell_type": "code",
   "execution_count": 120,
   "metadata": {},
   "outputs": [
    {
     "data": {
      "text/plain": [
       "(107903, 27)"
      ]
     },
     "execution_count": 120,
     "metadata": {},
     "output_type": "execute_result"
    }
   ],
   "source": [
    "# Generamos una key de zona\n",
    "dfprop['district_name_key']=dfprop['country_name']+\"-\"+\\\n",
    "                            dfprop['state_name']+\"-\"+\\\n",
    "                            dfprop['district_name']\n",
    "\n",
    "# Creamos un dataframe auxiliar\n",
    "dfprop_price=dfprop\n",
    "\n",
    "\n",
    "# Agrupamos por key y sacamos precio promedio\n",
    "dfprop_price=dfprop_price.groupby('district_name_key')[['price_usd_per_m2']].mean()\n",
    "\n",
    "\n",
    "# Renombro columnas a efectos practicos en la interpretacion\n",
    "dfprop_price.rename(columns={'price_usd_per_m2':'price_usd_per_m2_district'},inplace=True)\n",
    "\n",
    "\n",
    "#Unimos las tablas por left para agregar la columna precio por distrito\n",
    "dfprop=pd.merge(dfprop,dfprop_price,how='left',on='district_name_key')\n",
    "\n",
    "#Imputamos el precio promedio por district a los casos que tengan Nan y que tengan District\n",
    "dfprop.loc[(dfprop['price_usd_per_m2'].isna() &\\\n",
    "          (~dfprop['district_name'].isna())),'price_usd_per_m2']=dfprop['price_usd_per_m2_district']\n",
    "\n",
    "\n",
    "# Elimino las columnas utilizadas en este analisis\n",
    "dfprop.drop(['price_usd_per_m2_district','district_name_key'],axis=1,inplace=True)\n",
    "\n",
    "dfprop.shape"
   ]
  },
  {
   "cell_type": "markdown",
   "metadata": {},
   "source": [
    "Eliminamos las propiedades a las cuales no se les pudo imputar un valor en 'price_usd_per_m2' "
   ]
  },
  {
   "cell_type": "code",
   "execution_count": 124,
   "metadata": {},
   "outputs": [],
   "source": [
    "dfprop=dfprop.loc[(~dfprop['price_usd_per_m2'].isna())]"
   ]
  },
  {
   "cell_type": "markdown",
   "metadata": {},
   "source": [
    "Imputamos el precio en base a 'price_usd_per_m2' y 'surface_total_in_m2'"
   ]
  },
  {
   "cell_type": "code",
   "execution_count": 125,
   "metadata": {},
   "outputs": [],
   "source": [
    "#Asignamos la moneda USD \n",
    "dfprop.loc[dfprop['price'].isna() &\\\n",
    "           (~dfprop['price_usd_per_m2'].isna())&\\\n",
    "            (~dfprop['surface_total_in_m2'].isna()),\\\n",
    "           'currency']= 'USD'\n",
    "\n",
    "#Calculamos el precio en dolares para las propiedades que tenemos la superficie total y el valor en USD por m2 \n",
    "dfprop.loc[dfprop['price'].isna() &\\\n",
    "           (~dfprop['price_usd_per_m2'].isna())&\\\n",
    "            (~dfprop['surface_total_in_m2'].isna()),\\\n",
    "           'price']= dfprop['price_usd_per_m2']*dfprop['surface_total_in_m2']\n",
    "\n",
    "dfprop.loc[dfprop['price_aprox_usd'].isna() &\\\n",
    "           (~dfprop['price_usd_per_m2'].isna())&\\\n",
    "            (~dfprop['surface_total_in_m2'].isna()),\\\n",
    "           'price_aprox_usd']= dfprop['price_usd_per_m2']*dfprop['surface_total_in_m2']\n"
   ]
  },
  {
   "cell_type": "markdown",
   "metadata": {},
   "source": [
    "Corroboramos que no hayan quedado valores Nan en precio\n"
   ]
  },
  {
   "cell_type": "code",
   "execution_count": 126,
   "metadata": {},
   "outputs": [
    {
     "data": {
      "text/plain": [
       "price                        0\n",
       "price_aprox_usd              0\n",
       "currency                     0\n",
       "surface_total_in_m2       6601\n",
       "surface_covered_in_m2     6601\n",
       "price_per_m2             23847\n",
       "price_usd_per_m2             0\n",
       "dtype: int64"
      ]
     },
     "execution_count": 126,
     "metadata": {},
     "output_type": "execute_result"
    }
   ],
   "source": [
    "# Cantidad de registros sin precio m2 cuadrado ni precio \n",
    "dfpropa=dfprop.loc[:,\\\n",
    "            ['price','price_aprox_usd','currency','surface_total_in_m2','surface_covered_in_m2','price_per_m2','price_usd_per_m2']]\n",
    "\n",
    "dfpropa[dfpropa.isnull().any(axis=1)].isna().sum()"
   ]
  },
  {
   "cell_type": "code",
   "execution_count": 46,
   "metadata": {},
   "outputs": [],
   "source": [
    "#!pip install wordcloud\n",
    "\n",
    "import numpy as np\n",
    "import pandas as pd\n",
    "from os import path\n",
    "from wordcloud import WordCloud, STOPWORDS, ImageColorGenerator\n",
    "\n",
    "import matplotlib.pyplot as plt\n",
    "%matplotlib inline"
   ]
  },
  {
   "cell_type": "code",
   "execution_count": 47,
   "metadata": {},
   "outputs": [
    {
     "data": {
      "image/png": "[encoded data removed]",
      "text/plain": [
       "<Figure size 432x288 with 1 Axes>"
      ]
     },
     "metadata": {
      "needs_background": "light"
     },
     "output_type": "display_data"
    },
    {
     "data": {
      "image/png": "[encoded data removed]",
      "text/plain": [
       "<Figure size 432x288 with 1 Axes>"
      ]
     },
     "metadata": {
      "needs_background": "light"
     },
     "output_type": "display_data"
    }
   ],
   "source": [
    "# Start with one review:\n",
    "textprop=''\n",
    "for i in dfprop.sample(20000).index:\n",
    "    textprop+=str(dfprop.description[i])\n",
    "textprop\n",
    "\n",
    "#from stop_words import get_stop_words\n",
    "stop_words=get_stop_words('spanish')\n",
    "\n",
    "stop_words.append('cocina')\n",
    "stop_words.append('comedor')\n",
    "stop_words.append('living')\n",
    "stop_words.append('baño')\n",
    "stop_words.append('planta')\n",
    "stop_words.append('baja')\n",
    "stop_words.append('departamento')\n",
    "stop_words.append('ID')\n",
    "stop_words.append('MLS')\n",
    "stop_words.append('bajo')\n",
    "stop_words.append('mesada')\n",
    "stop_words.append('dos')\n",
    "stop_words.append('dos')\n",
    "\n",
    "# lower max_font_size, change the maximum number of word and lighten the background:\n",
    "wordcloud = WordCloud(max_font_size=50, max_words=5, background_color=\"white\",stopwords=stop_words).generate(textprop)\n",
    "plt.figure()\n",
    "plt.imshow(wordcloud, interpolation=\"bilinear\")\n",
    "plt.axis(\"off\")\n",
    "plt.show()\n"
   ]
  },
  {
   "cell_type": "code",
   "execution_count": 51,
   "metadata": {},
   "outputs": [
    {
     "data": {
      "image/png": "[encoded data removed]",
      "text/plain": [
       "<Figure size 432x288 with 1 Axes>"
      ]
     },
     "metadata": {
      "needs_background": "light"
     },
     "output_type": "display_data"
    },
    {
     "data": {
      "text/plain": [
       "<wordcloud.wordcloud.WordCloud at 0x7f8f324e7940>"
      ]
     },
     "execution_count": 51,
     "metadata": {},
     "output_type": "execute_result"
    }
   ],
   "source": [
    "\n",
    "wordcloud = WordCloud(width=800,height=600,max_font_size=50, max_words=100, background_color=\"black\",stopwords=stop_words).generate(textprop)\n",
    "plt.figure()\n",
    "plt.imshow(wordcloud, interpolation=\"bilinear\")\n",
    "plt.axis(\"off\")\n",
    "plt.show()\n",
    "wordcloud.to_file('wcblack.png')"
   ]
  },
  {
   "cell_type": "code",
   "execution_count": 35,
   "metadata": {},
   "outputs": [
    {
     "data": {
      "text/plain": [
       "['a',\n",
       " 'al',\n",
       " 'algo',\n",
       " 'algunas',\n",
       " 'algunos',\n",
       " 'ante',\n",
       " 'antes',\n",
       " 'como',\n",
       " 'con',\n",
       " 'contra',\n",
       " 'cual',\n",
       " 'cuando',\n",
       " 'de',\n",
       " 'del',\n",
       " 'desde',\n",
       " 'donde',\n",
       " 'durante',\n",
       " 'e',\n",
       " 'el',\n",
       " 'ella',\n",
       " 'ellas',\n",
       " 'ellos',\n",
       " 'en',\n",
       " 'entre',\n",
       " 'era',\n",
       " 'erais',\n",
       " 'eran',\n",
       " 'eras',\n",
       " 'eres',\n",
       " 'es',\n",
       " 'esa',\n",
       " 'esas',\n",
       " 'ese',\n",
       " 'eso',\n",
       " 'esos',\n",
       " 'esta',\n",
       " 'estaba',\n",
       " 'estabais',\n",
       " 'estaban',\n",
       " 'estabas',\n",
       " 'estad',\n",
       " 'estada',\n",
       " 'estadas',\n",
       " 'estado',\n",
       " 'estados',\n",
       " 'estamos',\n",
       " 'estando',\n",
       " 'estar',\n",
       " 'estaremos',\n",
       " 'estará',\n",
       " 'estarán',\n",
       " 'estarás',\n",
       " 'estaré',\n",
       " 'estaréis',\n",
       " 'estaría',\n",
       " 'estaríais',\n",
       " 'estaríamos',\n",
       " 'estarían',\n",
       " 'estarías',\n",
       " 'estas',\n",
       " 'este',\n",
       " 'estemos',\n",
       " 'esto',\n",
       " 'estos',\n",
       " 'estoy',\n",
       " 'estuve',\n",
       " 'estuviera',\n",
       " 'estuvierais',\n",
       " 'estuvieran',\n",
       " 'estuvieras',\n",
       " 'estuvieron',\n",
       " 'estuviese',\n",
       " 'estuvieseis',\n",
       " 'estuviesen',\n",
       " 'estuvieses',\n",
       " 'estuvimos',\n",
       " 'estuviste',\n",
       " 'estuvisteis',\n",
       " 'estuviéramos',\n",
       " 'estuviésemos',\n",
       " 'estuvo',\n",
       " 'está',\n",
       " 'estábamos',\n",
       " 'estáis',\n",
       " 'están',\n",
       " 'estás',\n",
       " 'esté',\n",
       " 'estéis',\n",
       " 'estén',\n",
       " 'estés',\n",
       " 'fue',\n",
       " 'fuera',\n",
       " 'fuerais',\n",
       " 'fueran',\n",
       " 'fueras',\n",
       " 'fueron',\n",
       " 'fuese',\n",
       " 'fueseis',\n",
       " 'fuesen',\n",
       " 'fueses',\n",
       " 'fui',\n",
       " 'fuimos',\n",
       " 'fuiste',\n",
       " 'fuisteis',\n",
       " 'fuéramos',\n",
       " 'fuésemos',\n",
       " 'ha',\n",
       " 'habida',\n",
       " 'habidas',\n",
       " 'habido',\n",
       " 'habidos',\n",
       " 'habiendo',\n",
       " 'habremos',\n",
       " 'habrá',\n",
       " 'habrán',\n",
       " 'habrás',\n",
       " 'habré',\n",
       " 'habréis',\n",
       " 'habría',\n",
       " 'habríais',\n",
       " 'habríamos',\n",
       " 'habrían',\n",
       " 'habrías',\n",
       " 'habéis',\n",
       " 'había',\n",
       " 'habíais',\n",
       " 'habíamos',\n",
       " 'habían',\n",
       " 'habías',\n",
       " 'han',\n",
       " 'has',\n",
       " 'hasta',\n",
       " 'hay',\n",
       " 'haya',\n",
       " 'hayamos',\n",
       " 'hayan',\n",
       " 'hayas',\n",
       " 'hayáis',\n",
       " 'he',\n",
       " 'hemos',\n",
       " 'hube',\n",
       " 'hubiera',\n",
       " 'hubierais',\n",
       " 'hubieran',\n",
       " 'hubieras',\n",
       " 'hubieron',\n",
       " 'hubiese',\n",
       " 'hubieseis',\n",
       " 'hubiesen',\n",
       " 'hubieses',\n",
       " 'hubimos',\n",
       " 'hubiste',\n",
       " 'hubisteis',\n",
       " 'hubiéramos',\n",
       " 'hubiésemos',\n",
       " 'hubo',\n",
       " 'la',\n",
       " 'las',\n",
       " 'le',\n",
       " 'les',\n",
       " 'lo',\n",
       " 'los',\n",
       " 'me',\n",
       " 'mi',\n",
       " 'mis',\n",
       " 'mucho',\n",
       " 'muchos',\n",
       " 'muy',\n",
       " 'más',\n",
       " 'mí',\n",
       " 'mía',\n",
       " 'mías',\n",
       " 'mío',\n",
       " 'míos',\n",
       " 'nada',\n",
       " 'ni',\n",
       " 'no',\n",
       " 'nos',\n",
       " 'nosotras',\n",
       " 'nosotros',\n",
       " 'nuestra',\n",
       " 'nuestras',\n",
       " 'nuestro',\n",
       " 'nuestros',\n",
       " 'o',\n",
       " 'os',\n",
       " 'otra',\n",
       " 'otras',\n",
       " 'otro',\n",
       " 'otros',\n",
       " 'para',\n",
       " 'pero',\n",
       " 'poco',\n",
       " 'por',\n",
       " 'porque',\n",
       " 'que',\n",
       " 'quien',\n",
       " 'quienes',\n",
       " 'qué',\n",
       " 'se',\n",
       " 'sea',\n",
       " 'seamos',\n",
       " 'sean',\n",
       " 'seas',\n",
       " 'seremos',\n",
       " 'será',\n",
       " 'serán',\n",
       " 'serás',\n",
       " 'seré',\n",
       " 'seréis',\n",
       " 'sería',\n",
       " 'seríais',\n",
       " 'seríamos',\n",
       " 'serían',\n",
       " 'serías',\n",
       " 'seáis',\n",
       " 'sido',\n",
       " 'siendo',\n",
       " 'sin',\n",
       " 'sobre',\n",
       " 'sois',\n",
       " 'somos',\n",
       " 'son',\n",
       " 'soy',\n",
       " 'su',\n",
       " 'sus',\n",
       " 'suya',\n",
       " 'suyas',\n",
       " 'suyo',\n",
       " 'suyos',\n",
       " 'sí',\n",
       " 'también',\n",
       " 'tanto',\n",
       " 'te',\n",
       " 'tendremos',\n",
       " 'tendrá',\n",
       " 'tendrán',\n",
       " 'tendrás',\n",
       " 'tendré',\n",
       " 'tendréis',\n",
       " 'tendría',\n",
       " 'tendríais',\n",
       " 'tendríamos',\n",
       " 'tendrían',\n",
       " 'tendrías',\n",
       " 'tened',\n",
       " 'tenemos',\n",
       " 'tenga',\n",
       " 'tengamos',\n",
       " 'tengan',\n",
       " 'tengas',\n",
       " 'tengo',\n",
       " 'tengáis',\n",
       " 'tenida',\n",
       " 'tenidas',\n",
       " 'tenido',\n",
       " 'tenidos',\n",
       " 'teniendo',\n",
       " 'tenéis',\n",
       " 'tenía',\n",
       " 'teníais',\n",
       " 'teníamos',\n",
       " 'tenían',\n",
       " 'tenías',\n",
       " 'ti',\n",
       " 'tiene',\n",
       " 'tienen',\n",
       " 'tienes',\n",
       " 'todo',\n",
       " 'todos',\n",
       " 'tu',\n",
       " 'tus',\n",
       " 'tuve',\n",
       " 'tuviera',\n",
       " 'tuvierais',\n",
       " 'tuvieran',\n",
       " 'tuvieras',\n",
       " 'tuvieron',\n",
       " 'tuviese',\n",
       " 'tuvieseis',\n",
       " 'tuviesen',\n",
       " 'tuvieses',\n",
       " 'tuvimos',\n",
       " 'tuviste',\n",
       " 'tuvisteis',\n",
       " 'tuviéramos',\n",
       " 'tuviésemos',\n",
       " 'tuvo',\n",
       " 'tuya',\n",
       " 'tuyas',\n",
       " 'tuyo',\n",
       " 'tuyos',\n",
       " 'tú',\n",
       " 'un',\n",
       " 'una',\n",
       " 'uno',\n",
       " 'unos',\n",
       " 'vosotras',\n",
       " 'vosotros',\n",
       " 'vuestra',\n",
       " 'vuestras',\n",
       " 'vuestro',\n",
       " 'vuestros',\n",
       " 'y',\n",
       " 'ya',\n",
       " 'yo',\n",
       " 'él',\n",
       " 'éramos',\n",
       " 'living comedor',\n",
       " 'baño completo',\n",
       " 'cocina comedor',\n",
       " 'planta baja',\n",
       " 'comedor cocina']"
      ]
     },
     "execution_count": 35,
     "metadata": {},
     "output_type": "execute_result"
    }
   ],
   "source": [
    "wordcloud.to_file('wc.png')"
   ]
  },
  {
   "cell_type": "code",
   "execution_count": null,
   "metadata": {},
   "outputs": [],
   "source": []
  }
 ],
 "metadata": {
  "kernelspec": {
   "display_name": "Python [conda env:geopandas]",
   "language": "python",
   "name": "conda-env-geopandas-py"
  },
  "language_info": {
   "codemirror_mode": {
    "name": "ipython",
    "version": 3
   },
   "file_extension": ".py",
   "mimetype": "text/x-python",
   "name": "python",
   "nbconvert_exporter": "python",
   "pygments_lexer": "ipython3",
   "version": "3.7.2"
  }
 },
 "nbformat": 4,
 "nbformat_minor": 2
}
